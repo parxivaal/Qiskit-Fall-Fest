{
 "cells": [
  {
   "cell_type": "code",
   "execution_count": 100,
   "id": "cc0af4dd-6ad3-4553-9819-5fb103efa024",
   "metadata": {},
   "outputs": [],
   "source": [
    "# Importing Libraries\n",
    "import matplotlib.pyplot as plt\n",
    "import numpy as np\n",
    "from qiskit import QuantumCircuit, ClassicalRegister, QuantumRegister\n",
    "from qiskit import Aer, execute\n",
    "from scipy.optimize import minimize\n",
    "from qiskit.visualization import plot_histogram\n",
    "import networkx as nx\n",
    "import warnings\n",
    "warnings.filterwarnings('ignore')"
   ]
  },
  {
   "cell_type": "code",
   "execution_count": 101,
   "id": "9aa236a9-119e-48bd-9f37-7bab976defd5",
   "metadata": {},
   "outputs": [
    {
     "data": {
      "image/png": "[encoded data removed]",
      "text/plain": [
       "<Figure size 432x288 with 1 Axes>"
      ]
     },
     "metadata": {},
     "output_type": "display_data"
    }
   ],
   "source": [
    "# Formation of Graph given the Patient-Donor pairs (nodes) and their Compatible pairs\n",
    "G = nx.DiGraph(directed=True)\n",
    "\n",
    "w = [2,3,5,1,3,3,5,2,4,2] # Add costs of Kidneys\n",
    "G.add_weighted_edges_from([(0,1,w[0]), (2,0,w[1]), (0,3,w[2]), (1,2,w[3]), (1,4,w[4]), (5,3,w[5]), (3,4,w[6]), (6,2,w[7]), (4,5,w[8]), (5,6,w[9])])\n",
    "# list is (i,j,weight) where (i,j) is the edge\n",
    "\n",
    "colors = ['r' for node in G.nodes()]\n",
    "pos = nx.spring_layout(G)\n",
    "\n",
    "def draw_graph(G, colors, pos):\n",
    "    default_axes = plt.axes(frameon=True)\n",
    "    nx.draw_networkx(G, node_color=colors, node_size=600, alpha=.8, ax=default_axes, pos=pos)\n",
    "    edge_labels = nx.get_edge_attributes(G, 'weight')\n",
    "    nx.draw_networkx_edge_labels(G, pos=pos, edge_labels=edge_labels)\n",
    "\n",
    "draw_graph(G, colors, pos)"
   ]
  },
  {
   "cell_type": "code",
   "execution_count": 104,
   "id": "e2310564-9e18-4292-b851-b4cd0f037c78",
   "metadata": {},
   "outputs": [],
   "source": [
    "# Gives the Value of the Cost Function when bitstring is input\n",
    "def cost_fn(bit,dist_mat):\n",
    "    solution=np.array([int(i) for i in bit])\n",
    "    solution=np.array([0,1,1,0])\n",
    "    sol =solution.reshape(2,2)\n",
    "    cost=0\n",
    "    A=100\n",
    "    for i in range(np.shape(sol)[0]):\n",
    "        x=0\n",
    "        for j in range(np.shape(sol)[0]):\n",
    "            x+=sol[i,j]\n",
    "        cost+=A*(1-x)**2\n",
    "    for i in range(np.shape(sol)[0]):\n",
    "        x=0\n",
    "        for j in range(np.shape(sol)[0]):\n",
    "            x+=sol[j,i]\n",
    "        cost+=A*(1-x)**2\n",
    "    print(cost)       \n",
    "    cost+= sum(sum(sol[:,:]*dist_mat))        \n",
    "    return cost"
   ]
  },
  {
   "cell_type": "code",
   "execution_count": 105,
   "id": "00e1cc64-5c3f-4eb0-b333-009504192fe5",
   "metadata": {},
   "outputs": [],
   "source": [
    "# Computes Expectation Value\n",
    "def compute_expectation(counts, G):\n",
    "    avg = 0\n",
    "    sum_count = 0\n",
    "    for bitstring, count in counts.items():\n",
    "        obj = tsp(bitstring, G)\n",
    "        avg += obj * count\n",
    "        sum_count += count\n",
    "    return avg/sum_count"
   ]
  },
  {
   "cell_type": "code",
   "execution_count": null,
   "id": "0197595b-9be7-4f56-84cb-4854e5e16e72",
   "metadata": {},
   "outputs": [],
   "source": [
    "# Multi-Angle QAOA Function which returns counts\n",
    "def multi_angle_qaoa(G, theta) :\n",
    "    \n",
    "    # Multi-Angle QAOA circuit for TSP Problem\n",
    "    def create_maqaoa_circ(G, theta):  \n",
    "        nqubits = len(G.edges())\n",
    "        \n",
    "        # Distribution of Input Parameters\n",
    "        qc = QuantumCircuit(nqubits)\n",
    "        clauses = len(G.edges())\n",
    "        nlayers = len(theta)//((nqubits*2)+clauses)\n",
    "        beta = np.reshape(theta[:nlayers*nqubits], (nlayers,nqubits))\n",
    "        gamma = np.reshape(theta[nlayers*nqubits:], (nlayers,nqubits+clauses))\n",
    "    \n",
    "        # Formation of Quantum Circuit simulating the Problem Hamiltonian\n",
    "        for i in range(nqubits):\n",
    "            qc.h(i)\n",
    "    \n",
    "        for irep in range(nlayers):\n",
    "            k=0\n",
    "            \n",
    "            # problem unitary\n",
    "            for i in range(nqubits):\n",
    "                qc.rz(2 * gamma[irep,k], i)\n",
    "                k+=1\n",
    "            \n",
    "            ###################################################\n",
    "            # This Part is Remaining as we didn't get enough time to form a fn which applies a part of Problem Hamiltonian\n",
    "            for pair in list(G.edges()):\n",
    "                qc.rzz(2 * gamma[irep,k], pair[0], pair[1])\n",
    "                k+=1\n",
    "            qc.barrier()\n",
    "            ###################################################\n",
    "            \n",
    "            # mixer unitary\n",
    "            for i in range(nqubits):\n",
    "                qc.rx(2 * beta[irep,i], i)\n",
    "            qc.barrier()\n",
    "        \n",
    "        qc.measure_all()\n",
    "        return qc\n",
    "    \n",
    "    def get_expectation_MAQAOA(G, shots=512):\n",
    "        backend = Aer.get_backend('qasm_simulator')\n",
    "        backend.shots = shots\n",
    "    \n",
    "        def execute_circ(theta):\n",
    "        \n",
    "            qc = create_maqaoa_circ(G, theta)\n",
    "            counts = backend.run(qc, seed_simulator=10, nshots=512).result().get_counts()\n",
    "            return compute_expectation(counts, G)\n",
    "    \n",
    "        return execute_circ\n",
    "    \n",
    "    # Optimizing Parameters for Basic QAOA\n",
    "    expectation = get_expectation_MAQAOA(G)\n",
    "    global res_multi\n",
    "    res_multi = minimize(expectation, theta, method='COBYLA')\n",
    "\n",
    "    \n",
    "    backend = Aer.get_backend('aer_simulator')\n",
    "    backend.shots = 512\n",
    "\n",
    "    qc_res = create_maqaoa_circ(G, res_multi.x)\n",
    "    counts = backend.run(qc_res, seed_simulator=10).result().get_counts()\n",
    "    return counts"
   ]
  },
  {
   "cell_type": "code",
   "execution_count": null,
   "id": "ba8e664d-747a-4eee-b6d4-03a0131fb904",
   "metadata": {},
   "outputs": [],
   "source": [
    "# Input random Parameters that will be optimized\n",
    "beta = np.array([[3,4,4,5,3,6,4,6,2,3]]) # Number of Parameters here = number of edges\n",
    "gamma = np.array([[4,3,5,5,5,4,4,3,5]]) # Number of Parameters depends \n",
    "theta = np.concatenate((beta.flatten(), gamma.flatten()))"
   ]
  },
  {
   "cell_type": "code",
   "execution_count": 83,
   "id": "21274950-c9c3-4ebd-a6c0-e2c2b6ce6b58",
   "metadata": {},
   "outputs": [
    {
     "name": "stdout",
     "output_type": "stream",
     "text": [
      "Traceback \u001b[1;36m(most recent call last)\u001b[0m:\n",
      "\u001b[1;36m  Input \u001b[1;32mIn [83]\u001b[1;36m in \u001b[1;35m<cell line: 1>\u001b[1;36m\u001b[0m\n",
      "\u001b[1;33m    counts_multi = multi_angle_qaoa(G, theta_multi)\u001b[0m\n",
      "\u001b[1;31mNameError\u001b[0m\u001b[1;31m:\u001b[0m name 'multi_angle_qaoa' is not defined\n",
      "\n",
      "Use %tb to get the full traceback.\n"
     ]
    },
    {
     "data": {
      "text/html": [
       "\n",
       "<style>\n",
       ".button {\n",
       "  border: none;\n",
       "  color: white;\n",
       "  padding: 4px 8px;\n",
       "  text-align: center;\n",
       "  text-decoration: none;\n",
       "  display: inline-block;\n",
       "  font-size: 12px;\n",
       "  margin: 4px 2px;\n",
       "  transition-duration: 0.2s;\n",
       "  cursor: pointer;\n",
       "}\n",
       ".iqx-button {\n",
       "  background-color: #0f62fe; \n",
       "  color: white; \n",
       "}\n",
       ".iqx-button:hover {\n",
       "  background-color: #0043ce;\n",
       "  color: white;\n",
       "}\n",
       "</style>\n",
       "<a href=\"https://stackoverflow.com/search?q=NameError: name 'multi_angle_qaoa' is not defined\" target='_blank'><button class='button iqx-button'>Search for solution online</button></a>\n"
      ],
      "text/plain": [
       "<IPython.core.display.HTML object>"
      ]
     },
     "metadata": {},
     "output_type": "display_data"
    }
   ],
   "source": [
    "# Returns the Distribution and Solution\n",
    "\n",
    "counts_multi = multi_angle_qaoa(G, theta_multi)\n",
    "print(\"Multi-Angle QAOA : \", res_multi.fun)\n",
    "plot_histogram(counts_multi, figsize = (10,10))"
   ]
  }
 ],
 "metadata": {
  "kernelspec": {
   "display_name": "Python 3 (ipykernel)",
   "language": "python",
   "name": "python3"
  },
  "language_info": {
   "codemirror_mode": {
    "name": "ipython",
    "version": 3
   },
   "file_extension": ".py",
   "mimetype": "text/x-python",
   "name": "python",
   "nbconvert_exporter": "python",
   "pygments_lexer": "ipython3",
   "version": "3.8.13"
  },
  "widgets": {
   "application/vnd.jupyter.widget-state+json": {
    "state": {
     "06113a15d9714b2ab514ae934875dfdb": {
      "model_module": "@jupyter-widgets/controls",
      "model_module_version": "1.5.0",
      "model_name": "DescriptionStyleModel",
      "state": {
       "description_width": ""
      }
     },
     "0c67dbc8dac4427e916b460802217e06": {
      "model_module": "@jupyter-widgets/controls",
      "model_module_version": "1.5.0",
      "model_name": "DescriptionStyleModel",
      "state": {
       "description_width": ""
      }
     },
     "14b8f43b7c8c4ad384f392657234a3e5": {
      "model_module": "@jupyter-widgets/base",
      "model_module_version": "1.2.0",
      "model_name": "LayoutModel",
      "state": {
       "width": "95px"
      }
     },
     "16874a34bd5b4b14b83d6b37aff52914": {
      "model_module": "@jupyter-widgets/controls",
      "model_module_version": "1.5.0",
      "model_name": "DescriptionStyleModel",
      "state": {
       "description_width": ""
      }
     },
     "2d58f0867361410b95448864787955d6": {
      "model_module": "@jupyter-widgets/controls",
      "model_module_version": "1.5.0",
      "model_name": "HTMLModel",
      "state": {
       "layout": "IPY_MODEL_ac97761ba6e444eca56af95cfc2ab0c1",
       "style": "IPY_MODEL_9c46bf762b104c6a8f22a612fc781a71",
       "value": "<h5>Queue</h5>"
      }
     },
     "319b02c083d8433c8dfc6b38335a82ae": {
      "model_module": "@jupyter-widgets/base",
      "model_module_version": "1.2.0",
      "model_name": "LayoutModel",
      "state": {
       "width": "190px"
      }
     },
     "45f0c70c3a3d4e4bba8b5d6ad415aeb6": {
      "model_module": "@jupyter-widgets/controls",
      "model_module_version": "1.5.0",
      "model_name": "HTMLModel",
      "state": {
       "layout": "IPY_MODEL_569e7416b98f445da8bf17308d04848f",
       "style": "IPY_MODEL_06113a15d9714b2ab514ae934875dfdb",
       "value": "<h5>Message</h5>"
      }
     },
     "540ab8fe5b904254a502eb94adac02d9": {
      "model_module": "@jupyter-widgets/base",
      "model_module_version": "1.2.0",
      "model_name": "LayoutModel",
      "state": {
       "width": "145px"
      }
     },
     "54af9b7f22d84e4b924117b95584f28b": {
      "model_module": "@jupyter-widgets/controls",
      "model_module_version": "1.5.0",
      "model_name": "HTMLModel",
      "state": {
       "layout": "IPY_MODEL_14b8f43b7c8c4ad384f392657234a3e5",
       "style": "IPY_MODEL_af7208f99db54bd0844418a8bae6afdb",
       "value": "<h5>Status</h5>"
      }
     },
     "569e7416b98f445da8bf17308d04848f": {
      "model_module": "@jupyter-widgets/base",
      "model_module_version": "1.2.0",
      "model_name": "LayoutModel",
      "state": {}
     },
     "66ca471cf89e499cabb1a3e365e2e9bc": {
      "model_module": "@jupyter-widgets/base",
      "model_module_version": "1.2.0",
      "model_name": "LayoutModel",
      "state": {
       "grid_template_areas": "\n                                       \". . . . right \"\n                                        ",
       "grid_template_columns": "20% 20% 20% 20% 20%",
       "width": "100%"
      }
     },
     "6e6c442cf2a44cf8af1965861e6c8be7": {
      "model_module": "@jupyter-widgets/controls",
      "model_module_version": "1.5.0",
      "model_name": "GridBoxModel",
      "state": {
       "children": [
        "IPY_MODEL_7f2f128e00b043f988eb20a9529c8905"
       ],
       "layout": "IPY_MODEL_66ca471cf89e499cabb1a3e365e2e9bc"
      }
     },
     "72cf38afd16c4dd58d379f5ee1fd89a5": {
      "model_module": "@jupyter-widgets/controls",
      "model_module_version": "1.5.0",
      "model_name": "HTMLModel",
      "state": {
       "layout": "IPY_MODEL_319b02c083d8433c8dfc6b38335a82ae",
       "style": "IPY_MODEL_909856c50b03450fa117ac446b9138b9",
       "value": "<h5>Job ID</h5>"
      }
     },
     "7551c7028fce478da663ddbb6267fa7d": {
      "model_module": "@jupyter-widgets/base",
      "model_module_version": "1.2.0",
      "model_name": "LayoutModel",
      "state": {
       "margin": "0px 0px 10px 0px"
      }
     },
     "7f2f128e00b043f988eb20a9529c8905": {
      "model_module": "@jupyter-widgets/controls",
      "model_module_version": "1.5.0",
      "model_name": "ButtonModel",
      "state": {
       "button_style": "primary",
       "description": "Clear",
       "layout": "IPY_MODEL_c7238a6eddcd47b89cb61c03b03e9c13",
       "style": "IPY_MODEL_c1e6c9a4d68443fe85f5d318d2d2dbed"
      }
     },
     "909856c50b03450fa117ac446b9138b9": {
      "model_module": "@jupyter-widgets/controls",
      "model_module_version": "1.5.0",
      "model_name": "DescriptionStyleModel",
      "state": {
       "description_width": ""
      }
     },
     "9c46bf762b104c6a8f22a612fc781a71": {
      "model_module": "@jupyter-widgets/controls",
      "model_module_version": "1.5.0",
      "model_name": "DescriptionStyleModel",
      "state": {
       "description_width": ""
      }
     },
     "ac97761ba6e444eca56af95cfc2ab0c1": {
      "model_module": "@jupyter-widgets/base",
      "model_module_version": "1.2.0",
      "model_name": "LayoutModel",
      "state": {
       "width": "70px"
      }
     },
     "af7208f99db54bd0844418a8bae6afdb": {
      "model_module": "@jupyter-widgets/controls",
      "model_module_version": "1.5.0",
      "model_name": "DescriptionStyleModel",
      "state": {
       "description_width": ""
      }
     },
     "b8168f787ffc41d4bb3f2a73b06ec22c": {
      "model_module": "@jupyter-widgets/controls",
      "model_module_version": "1.5.0",
      "model_name": "HBoxModel",
      "state": {
       "children": [
        "IPY_MODEL_72cf38afd16c4dd58d379f5ee1fd89a5",
        "IPY_MODEL_f1cd9a2cdc4541b1a5bfe89d5be2a85b",
        "IPY_MODEL_54af9b7f22d84e4b924117b95584f28b",
        "IPY_MODEL_2d58f0867361410b95448864787955d6",
        "IPY_MODEL_45f0c70c3a3d4e4bba8b5d6ad415aeb6"
       ],
       "layout": "IPY_MODEL_bfea99ebbb6342029619f492d32fdd3a"
      }
     },
     "bfea99ebbb6342029619f492d32fdd3a": {
      "model_module": "@jupyter-widgets/base",
      "model_module_version": "1.2.0",
      "model_name": "LayoutModel",
      "state": {
       "margin": "0px 0px 0px 37px",
       "width": "600px"
      }
     },
     "c1e6c9a4d68443fe85f5d318d2d2dbed": {
      "model_module": "@jupyter-widgets/controls",
      "model_module_version": "1.5.0",
      "model_name": "ButtonStyleModel",
      "state": {}
     },
     "c7238a6eddcd47b89cb61c03b03e9c13": {
      "model_module": "@jupyter-widgets/base",
      "model_module_version": "1.2.0",
      "model_name": "LayoutModel",
      "state": {
       "grid_area": "right",
       "padding": "0px 0px 0px 0px",
       "width": "70px"
      }
     },
     "f1cd9a2cdc4541b1a5bfe89d5be2a85b": {
      "model_module": "@jupyter-widgets/controls",
      "model_module_version": "1.5.0",
      "model_name": "HTMLModel",
      "state": {
       "layout": "IPY_MODEL_540ab8fe5b904254a502eb94adac02d9",
       "style": "IPY_MODEL_0c67dbc8dac4427e916b460802217e06",
       "value": "<h5>Backend</h5>"
      }
     },
     "f70e6b2854f1425d8974c293128efcfc": {
      "model_module": "@jupyter-widgets/controls",
      "model_module_version": "1.5.0",
      "model_name": "HTMLModel",
      "state": {
       "layout": "IPY_MODEL_7551c7028fce478da663ddbb6267fa7d",
       "style": "IPY_MODEL_16874a34bd5b4b14b83d6b37aff52914",
       "value": "<p style='font-family: IBM Plex Sans, Arial, Helvetica, sans-serif; font-size: 20px; font-weight: medium;'>Circuit Properties</p>"
      }
     }
    },
    "version_major": 2,
    "version_minor": 0
   }
  }
 },
 "nbformat": 4,
 "nbformat_minor": 5
}
